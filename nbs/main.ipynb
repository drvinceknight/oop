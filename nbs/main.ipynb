{
 "cells": [
  {
   "cell_type": "markdown",
   "metadata": {},
   "source": [
    "## Introduction to Object Oriented Programming with Python\n",
    "\n",
    "This prepares you for a 2 day challenge. The goals:\n",
    "\n",
    "1. Be able to write Python code;\n",
    "2. Understand the ideas behind object oriented programming.\n",
    "\n",
    "### Basic Python\n",
    "\n",
    "1. Variables;\n",
    "2. Flow Control;\n",
    "3. Functions;\n",
    "4. Data structure.\n",
    "\n",
    "### Basic Object Oriented Programming\n",
    "\n",
    "1. Classes;\n",
    "2. Attributes;\n",
    "3. Methods;\n",
    "4. Inheritance.\n",
    "\n",
    "### The Challenge\n",
    "\n",
    "1. End of the day Thursday: Initial Feedback;\n",
    "2. End of the day Friday: results.\n",
    "\n",
    "## Overview of Python\n",
    "\n",
    "What is Python?\n",
    "\n",
    "Python is a programming language. There are various other programming languages:\n",
    "\n",
    "Java\n",
    "C\n",
    "C++\n",
    "Ruby\n",
    "VBA\n",
    "and many more.\n",
    "A programming language allows you to write a program which is a sequence of instructions that specifies how to perform a computation.\n",
    "\n",
    "When writing a program you need two things:\n",
    "\n",
    "Something to save the code (a text editor for example)\n",
    "Something to run the code\n",
    "We will be using a combination of these 2 things called notebooks.\n",
    "\n",
    "## Installing Python\n",
    "\n",
    "There are various distributions of Python, we will use Anaconda which comes packaged with a variety of other useful tools (including the notebooks I mentioned above).\n",
    "\n",
    "To install it on your personal machine follow these steps:\n",
    "\n",
    "Go to this webpage: https://www.continuum.io/downloads.\n",
    "\n",
    "Identify and download the version of **Python 3** for your operating system (Windows, Mac OSX, Linux).\n",
    "Run the installer.\n",
    "We will use a Jupyter notebook which runs in your browser. To open a local server find the Continuum navigator and click on Jupyter. You do not need to be connected to the internet to use this.\n",
    "\n",
    "## Interacting with Python\n",
    "\n",
    "Once you have installed Anaconda, you will now have Python on your machine. You can interact with Python in multiple ways:\n",
    "\n",
    "\n",
    "### The Python shell\n",
    "\n",
    "\n",
    "- On Windows open a \"Command Prompt\":\n",
    "  \n",
    "- On Mac OS or Linux open a \"Terminal\":\n",
    "  \n",
    "This is a simple utility that allows you to give commands to your computer. In there type:\n",
    "\n",
    "```bash\n",
    "python\n",
    "```\n",
    "\n",
    "This should then look something like:\n",
    "\n",
    "```python\n",
    "Python 3.5.2 |Anaconda 4.2.0 (64-bit)| (default, Jul  2 2016, 17:53:06) \n",
    "[GCC 4.4.7 20120313 (Red Hat 4.4.7-1)] on linux\n",
    "Type \"help\", \"copyright\", \"credits\" or \"license\" for more information.\n",
    ">>> \n",
    "```\n",
    "\n",
    "The `>>>` is a prompt for you to type a command. Let us carry out a straightforward addition:\n",
    "\n",
    "\n",
    "```python\n",
    ">>> 2 + 2\n",
    "```\n",
    "\n",
    "and press `ENTER`:\n",
    "\n",
    "\n",
    "```python\n",
    ">>> 2 + 2\n",
    "4\n",
    "```\n",
    "\n",
    "**This is not a very efficient and practical way of using Python.** We will instead learn to use a [Jupyter notebook](http://jupyter.org/).\n",
    "\n",
    "\n",
    "### Jupyter notebooks\n",
    "\n",
    "If you are still in the Python shell (with a `>>>` waiting for you to give a command) then type:\n",
    "\n",
    "```python\n",
    ">>> exit()\n",
    "```\n",
    "\n",
    "This will leave the prompt and you will now be back at the Command Prompt or the Terminal window. Here simply type:\n",
    "\n",
    "```bash\n",
    "jupyter notebook\n",
    "```\n",
    "\n",
    "After a little moment this will open a Jupyter notebook page in a browser. Note that this is all just running on your computer and you do not need to be connected to the internet to use a Jupyter notebook.\n",
    "\n",
    "Click on `New` and create a notebook: we can start to write code now.\n",
    "\n",
    "\n",
    "### Basic Python\n",
    "\n",
    "Write `2 + 2` in a cell and press `shift + Enter`:"
   ]
  },
  {
   "cell_type": "code",
   "execution_count": 1,
   "metadata": {},
   "outputs": [
    {
     "data": {
      "text/plain": [
       "4"
      ]
     },
     "execution_count": 1,
     "metadata": {},
     "output_type": "execute_result"
    }
   ],
   "source": [
    "2 + 2"
   ]
  },
  {
   "cell_type": "markdown",
   "metadata": {},
   "source": [
    "## Variables\n",
    "\n",
    "### Character variables:"
   ]
  },
  {
   "cell_type": "code",
   "execution_count": 2,
   "metadata": {},
   "outputs": [
    {
     "data": {
      "text/plain": [
       "'Hello world'"
      ]
     },
     "execution_count": 2,
     "metadata": {},
     "output_type": "execute_result"
    }
   ],
   "source": [
    "string = \"Hello world\"\n",
    "string"
   ]
  },
  {
   "cell_type": "markdown",
   "metadata": {},
   "source": [
    "### Numeric variables:"
   ]
  },
  {
   "cell_type": "code",
   "execution_count": 3,
   "metadata": {},
   "outputs": [
    {
     "data": {
      "text/plain": [
       "5.5"
      ]
     },
     "execution_count": 3,
     "metadata": {},
     "output_type": "execute_result"
    }
   ],
   "source": [
    "num_1 = 2\n",
    "num_2 = 3.5\n",
    "num_1 + num_2"
   ]
  },
  {
   "cell_type": "markdown",
   "metadata": {},
   "source": [
    "### String manipulation"
   ]
  },
  {
   "cell_type": "code",
   "execution_count": 4,
   "metadata": {},
   "outputs": [
    {
     "data": {
      "text/plain": [
       "'a'"
      ]
     },
     "execution_count": 4,
     "metadata": {},
     "output_type": "execute_result"
    }
   ],
   "source": [
    "#We define a variable called String \n",
    "# (note that # allows me to comment my code)\n",
    "string = \"My name is Vince\"\n",
    "#Let's get the 5th letter of String \n",
    "# (Note that Python starts counting at 0):\n",
    "string[4]"
   ]
  },
  {
   "cell_type": "code",
   "execution_count": 5,
   "metadata": {},
   "outputs": [
    {
     "data": {
      "text/plain": [
       "'y n'"
      ]
     },
     "execution_count": 5,
     "metadata": {},
     "output_type": "execute_result"
    }
   ],
   "source": [
    "string[1:4]"
   ]
  },
  {
   "cell_type": "code",
   "execution_count": 6,
   "metadata": {},
   "outputs": [
    {
     "data": {
      "text/plain": [
       "11"
      ]
     },
     "execution_count": 6,
     "metadata": {},
     "output_type": "execute_result"
    }
   ],
   "source": [
    "index_of_v = string.index(\"V\")\n",
    "index_of_v"
   ]
  },
  {
   "cell_type": "code",
   "execution_count": 7,
   "metadata": {},
   "outputs": [
    {
     "data": {
      "text/plain": [
       "'My name is '"
      ]
     },
     "execution_count": 7,
     "metadata": {},
     "output_type": "execute_result"
    }
   ],
   "source": [
    "string[index_of_v:]\n",
    "string[:index_of_v]"
   ]
  },
  {
   "cell_type": "markdown",
   "metadata": {},
   "source": [
    "### Numeric manipulation"
   ]
  },
  {
   "cell_type": "code",
   "execution_count": 8,
   "metadata": {},
   "outputs": [
    {
     "data": {
      "text/plain": [
       "5"
      ]
     },
     "execution_count": 8,
     "metadata": {},
     "output_type": "execute_result"
    }
   ],
   "source": [
    "num = 3\n",
    "\n",
    "# The following two lines are equivalent\n",
    "num = num + 1\n",
    "num += 1\n",
    "num"
   ]
  },
  {
   "cell_type": "code",
   "execution_count": 9,
   "metadata": {},
   "outputs": [
    {
     "data": {
      "text/plain": [
       "81"
      ]
     },
     "execution_count": 9,
     "metadata": {},
     "output_type": "execute_result"
    }
   ],
   "source": [
    "num -= 2\n",
    "num *= 3\n",
    "num **= 2\n",
    "num"
   ]
  },
  {
   "cell_type": "markdown",
   "metadata": {},
   "source": [
    "## Flow control\n",
    "\n",
    "- In Python indentation is important!\n",
    "- In all languages indentation is good practice, in Python it is a requirement.\n",
    "\n",
    "### If statements"
   ]
  },
  {
   "cell_type": "code",
   "execution_count": 10,
   "metadata": {},
   "outputs": [
    {
     "data": {
      "text/plain": [
       "3"
      ]
     },
     "execution_count": 10,
     "metadata": {},
     "output_type": "execute_result"
    }
   ],
   "source": [
    "n = 11 \n",
    "if n <= 5:\n",
    "    value = 1\n",
    "elif n % 2 == 0:  \n",
    "    value = 2\n",
    "else: \n",
    "    value = 3\n",
    "value"
   ]
  },
  {
   "cell_type": "markdown",
   "metadata": {},
   "source": [
    "### While loops"
   ]
  },
  {
   "cell_type": "code",
   "execution_count": 11,
   "metadata": {},
   "outputs": [
    {
     "data": {
      "text/plain": [
       "55"
      ]
     },
     "execution_count": 11,
     "metadata": {},
     "output_type": "execute_result"
    }
   ],
   "source": [
    "count = 0  \n",
    "total = 0 \n",
    "while count < 10: \n",
    "    count += 1  \n",
    "    total += count \n",
    "total"
   ]
  },
  {
   "cell_type": "markdown",
   "metadata": {},
   "source": [
    "### For loops"
   ]
  },
  {
   "cell_type": "code",
   "execution_count": 12,
   "metadata": {},
   "outputs": [
    {
     "name": "stdout",
     "output_type": "stream",
     "text": [
      "1\n",
      "2\n",
      "3\n",
      "4\n"
     ]
    }
   ],
   "source": [
    "for i in [1, 2, 3, 4]:\n",
    "    print(i)"
   ]
  },
  {
   "cell_type": "code",
   "execution_count": 13,
   "metadata": {},
   "outputs": [
    {
     "name": "stdout",
     "output_type": "stream",
     "text": [
      "Queueing Theory\n",
      "Game Theory\n",
      "Inventory Theory\n",
      "Reliability Theory\n"
     ]
    }
   ],
   "source": [
    "for subject in [\"Queueing Theory\", \"Game Theory\", \n",
    "                \"Inventory Theory\", \"Reliability Theory\", \n",
    "                \"Project Management\", \"Decision Analysis\"]:\n",
    "    if \"Theory\" in subject:\n",
    "        print(subject)"
   ]
  },
  {
   "cell_type": "markdown",
   "metadata": {},
   "source": [
    "## Functions"
   ]
  },
  {
   "cell_type": "code",
   "execution_count": 14,
   "metadata": {},
   "outputs": [
    {
     "name": "stdout",
     "output_type": "stream",
     "text": [
      "Hello everybody!\n"
     ]
    }
   ],
   "source": [
    "#To create a function we use the 'def' statement:\n",
    "def hi():\n",
    "    \"\"\"\n",
    "    This function simply prints a short statement. \n",
    "    \n",
    "    This is a shorter way of writing documentation, \n",
    "    it is good practice to always include a \n",
    "    description of what a function does.\n",
    "    \"\"\"\n",
    "    print(\"Hello everybody!\")\n",
    "\n",
    "hi()"
   ]
  },
  {
   "cell_type": "code",
   "execution_count": 15,
   "metadata": {},
   "outputs": [],
   "source": [
    "def fibonacci(n):\n",
    "    \"\"\"\n",
    "    This returns the nth Fibonacci number.\n",
    "    \"\"\"\n",
    "    if n == 0:\n",
    "        return 0\n",
    "    if n == 1:\n",
    "        return 1\n",
    "    return fibonacci(n - 1) + fibonacci(n - 2)"
   ]
  },
  {
   "cell_type": "code",
   "execution_count": 16,
   "metadata": {},
   "outputs": [
    {
     "data": {
      "text/plain": [
       "5"
      ]
     },
     "execution_count": 16,
     "metadata": {},
     "output_type": "execute_result"
    }
   ],
   "source": [
    "fibonacci(5)"
   ]
  },
  {
   "cell_type": "markdown",
   "metadata": {},
   "source": [
    "## Data structures: Lists"
   ]
  },
  {
   "cell_type": "code",
   "execution_count": 17,
   "metadata": {},
   "outputs": [
    {
     "data": {
      "text/plain": [
       "0"
      ]
     },
     "execution_count": 17,
     "metadata": {},
     "output_type": "execute_result"
    }
   ],
   "source": [
    "my_list = list(range(6))\n",
    "my_list[0]"
   ]
  },
  {
   "cell_type": "code",
   "execution_count": 18,
   "metadata": {},
   "outputs": [
    {
     "data": {
      "text/plain": [
       "[0, 1, 2, 3, 4, 5, 100]"
      ]
     },
     "execution_count": 18,
     "metadata": {},
     "output_type": "execute_result"
    }
   ],
   "source": [
    "my_list.append(100)\n",
    "my_list"
   ]
  },
  {
   "cell_type": "markdown",
   "metadata": {},
   "source": [
    "# Object Oriented Programming\n",
    "\n",
    "This is similar to cellular structure:\n",
    "\n",
    "![](./img/cellular_structure.png)\n",
    "\n",
    "We can create \"things\" with:\n",
    "\n",
    "- attributes: things those \"things\" have;\n",
    "- methods: things those \"things\" can do.\n",
    "\n",
    "![](./img/oop.png)\n",
    "\n",
    "## Defining a class"
   ]
  },
  {
   "cell_type": "code",
   "execution_count": 19,
   "metadata": {},
   "outputs": [],
   "source": [
    "class Student():\n",
    "    \"\"\"We can create a simple empty class.\n",
    "    \n",
    "    This is a set of rules that says what a student is.\n",
    "    \"\"\""
   ]
  },
  {
   "cell_type": "code",
   "execution_count": 20,
   "metadata": {
    "tags": [
     "nbval-ignore-output"
    ]
   },
   "outputs": [
    {
     "data": {
      "text/plain": [
       "<__main__.Student at 0x7f34b4210b38>"
      ]
     },
     "execution_count": 20,
     "metadata": {},
     "output_type": "execute_result"
    }
   ],
   "source": [
    "vince = Student()  # Creating an instance\n",
    "vince"
   ]
  },
  {
   "cell_type": "code",
   "execution_count": 21,
   "metadata": {
    "tags": [
     "nbval-ignore-output"
    ]
   },
   "outputs": [
    {
     "data": {
      "text/plain": [
       "<__main__.Student at 0x7f34b4210470>"
      ]
     },
     "execution_count": 21,
     "metadata": {},
     "output_type": "execute_result"
    }
   ],
   "source": [
    "zoe = Student()  # Creating a different instance\n",
    "zoe"
   ]
  },
  {
   "cell_type": "markdown",
   "metadata": {},
   "source": [
    "## Attributes"
   ]
  },
  {
   "cell_type": "code",
   "execution_count": 22,
   "metadata": {},
   "outputs": [],
   "source": [
    "class Student():\n",
    "    courses = [\"Biology\", \"Mathematics\", \"English\"]\n",
    "    age = 5\n",
    "    gender = \"Male\"\n",
    "#Let us now create Vince again:\n",
    "vince = Student()"
   ]
  },
  {
   "cell_type": "markdown",
   "metadata": {},
   "source": [
    "Accessing these attributes:"
   ]
  },
  {
   "cell_type": "code",
   "execution_count": 23,
   "metadata": {},
   "outputs": [
    {
     "data": {
      "text/plain": [
       "['Biology', 'Mathematics', 'English']"
      ]
     },
     "execution_count": 23,
     "metadata": {},
     "output_type": "execute_result"
    }
   ],
   "source": [
    "vince.courses"
   ]
  },
  {
   "cell_type": "code",
   "execution_count": 24,
   "metadata": {},
   "outputs": [
    {
     "data": {
      "text/plain": [
       "5"
      ]
     },
     "execution_count": 24,
     "metadata": {},
     "output_type": "execute_result"
    }
   ],
   "source": [
    "vince.age"
   ]
  },
  {
   "cell_type": "code",
   "execution_count": 25,
   "metadata": {},
   "outputs": [
    {
     "data": {
      "text/plain": [
       "'Male'"
      ]
     },
     "execution_count": 25,
     "metadata": {},
     "output_type": "execute_result"
    }
   ],
   "source": [
    "vince.gender"
   ]
  },
  {
   "cell_type": "markdown",
   "metadata": {},
   "source": [
    "We can manipulate these attributes just like **any other** python variable:"
   ]
  },
  {
   "cell_type": "code",
   "execution_count": 26,
   "metadata": {},
   "outputs": [
    {
     "data": {
      "text/plain": [
       "['Biology', 'Mathematics', 'English', 'Photography']"
      ]
     },
     "execution_count": 26,
     "metadata": {},
     "output_type": "execute_result"
    }
   ],
   "source": [
    "vince.courses.append(\"Photography\")\n",
    "vince.courses"
   ]
  },
  {
   "cell_type": "code",
   "execution_count": 27,
   "metadata": {},
   "outputs": [
    {
     "data": {
      "text/plain": [
       "28"
      ]
     },
     "execution_count": 27,
     "metadata": {},
     "output_type": "execute_result"
    }
   ],
   "source": [
    "vince.age = 28\n",
    "vince.age"
   ]
  },
  {
   "cell_type": "code",
   "execution_count": 28,
   "metadata": {},
   "outputs": [
    {
     "data": {
      "text/plain": [
       "'M'"
      ]
     },
     "execution_count": 28,
     "metadata": {},
     "output_type": "execute_result"
    }
   ],
   "source": [
    "vince.gender = \"M\"\n",
    "vince.gender"
   ]
  },
  {
   "cell_type": "markdown",
   "metadata": {},
   "source": [
    "## Methods"
   ]
  },
  {
   "cell_type": "code",
   "execution_count": 29,
   "metadata": {},
   "outputs": [],
   "source": [
    "class Student():\n",
    "    courses = [\"Biology\", \"Mathematics\", \"English\"]\n",
    "    age = 5\n",
    "    sex = \"Male\"\n",
    "\n",
    "    def have_a_birthday(self):\n",
    "        \"\"\"This method increments the age of our instance.\"\"\"\n",
    "        self.age += 1"
   ]
  },
  {
   "cell_type": "code",
   "execution_count": 30,
   "metadata": {},
   "outputs": [
    {
     "data": {
      "text/plain": [
       "5"
      ]
     },
     "execution_count": 30,
     "metadata": {},
     "output_type": "execute_result"
    }
   ],
   "source": [
    "vince = Student()\n",
    "vince.age"
   ]
  },
  {
   "cell_type": "code",
   "execution_count": 31,
   "metadata": {},
   "outputs": [
    {
     "data": {
      "text/plain": [
       "6"
      ]
     },
     "execution_count": 31,
     "metadata": {},
     "output_type": "execute_result"
    }
   ],
   "source": [
    "vince.have_a_birthday()\n",
    "vince.age"
   ]
  },
  {
   "cell_type": "markdown",
   "metadata": {},
   "source": [
    "## The `__init__` method"
   ]
  },
  {
   "cell_type": "code",
   "execution_count": 32,
   "metadata": {},
   "outputs": [],
   "source": [
    "class Student():\n",
    "    def __init__(self, courses, age, sex):\n",
    "        \"\"\"\n",
    "        What the class should do when it \n",
    "        is used to create an instance\n",
    "        \"\"\"\n",
    "        self.courses = courses\n",
    "        self.age = age\n",
    "        self.sex = sex\n",
    "\n",
    "    def have_a_birthday(self):\n",
    "        self.age += 1\n"
   ]
  },
  {
   "cell_type": "code",
   "execution_count": 33,
   "metadata": {},
   "outputs": [
    {
     "data": {
      "text/plain": [
       "(['Biology', 'Math'], 28, 'Male')"
      ]
     },
     "execution_count": 33,
     "metadata": {},
     "output_type": "execute_result"
    }
   ],
   "source": [
    "vince = Student([\"Biology\",\"Math\"],28,\"Male\")\n",
    "vince.courses, vince.age, vince.sex"
   ]
  },
  {
   "cell_type": "markdown",
   "metadata": {},
   "source": [
    "## Inheritance\n",
    "\n",
    "We can use a class to create new classes:"
   ]
  },
  {
   "cell_type": "code",
   "execution_count": 34,
   "metadata": {},
   "outputs": [],
   "source": [
    "class Math_Student(Student):\n",
    "    \"\"\"\n",
    "    A Math student: behaves exactly like a Student \n",
    "    but also has a favourite class attribute.\n",
    "    \"\"\"\n",
    "    favourite_class = \"Mathematics\""
   ]
  },
  {
   "cell_type": "code",
   "execution_count": 35,
   "metadata": {},
   "outputs": [
    {
     "data": {
      "text/plain": [
       "(['Mathematics', 'Biology'], 29, 'Female', 'Mathematics')"
      ]
     },
     "execution_count": 35,
     "metadata": {},
     "output_type": "execute_result"
    }
   ],
   "source": [
    "becky = Math_Student([\"Mathematics\", \"Biology\"], 29, \"Female\")\n",
    "becky.courses, becky.age, becky.sex, becky.favourite_class"
   ]
  },
  {
   "cell_type": "code",
   "execution_count": 36,
   "metadata": {},
   "outputs": [
    {
     "data": {
      "text/plain": [
       "30"
      ]
     },
     "execution_count": 36,
     "metadata": {},
     "output_type": "execute_result"
    }
   ],
   "source": [
    "#This class has the methods of the parent class:\n",
    "becky.have_a_birthday()\n",
    "becky.age"
   ]
  },
  {
   "cell_type": "markdown",
   "metadata": {},
   "source": [
    "## Summary\n",
    "\n",
    "- Classes\n",
    "- Attributes\n",
    "- Methods\n",
    "- Inheritance\n",
    "\n",
    "## Advantages\n",
    "\n",
    "- Simplicity\n",
    "- Modularity\n",
    "- Modifiability\n",
    "- Extensibility\n",
    "- Re-usability"
   ]
  },
  {
   "cell_type": "markdown",
   "metadata": {},
   "source": [
    "# Libraries\n",
    "\n",
    "There are a number of built in libraries that extend what Python can do."
   ]
  },
  {
   "cell_type": "code",
   "execution_count": 37,
   "metadata": {},
   "outputs": [
    {
     "data": {
      "text/plain": [
       "0.8444218515250481"
      ]
     },
     "execution_count": 37,
     "metadata": {},
     "output_type": "execute_result"
    }
   ],
   "source": [
    "import random\n",
    "random.seed(0)\n",
    "random.random()"
   ]
  },
  {
   "cell_type": "code",
   "execution_count": 38,
   "metadata": {},
   "outputs": [
    {
     "data": {
      "text/plain": [
       "-1.0"
      ]
     },
     "execution_count": 38,
     "metadata": {},
     "output_type": "execute_result"
    }
   ],
   "source": [
    "import math\n",
    "math.cos(math.pi)"
   ]
  },
  {
   "cell_type": "markdown",
   "metadata": {},
   "source": [
    "There are also a number of external libraries. This is one of the huge strengths of Python. Some of these come with Anaconda (the distribution of Python I recommend):"
   ]
  },
  {
   "cell_type": "code",
   "execution_count": 39,
   "metadata": {},
   "outputs": [
    {
     "data": {
      "text/plain": [
       "2*x"
      ]
     },
     "execution_count": 39,
     "metadata": {},
     "output_type": "execute_result"
    }
   ],
   "source": [
    "import sympy  # symbolic mathematics\n",
    "x = sympy.symbols('x')\n",
    "sympy.diff(x ** 2, x)"
   ]
  },
  {
   "cell_type": "code",
   "execution_count": 40,
   "metadata": {},
   "outputs": [
    {
     "data": {
      "text/plain": [
       "matrix([[ 2, -4],\n",
       "        [ 5, -3]])"
      ]
     },
     "execution_count": 40,
     "metadata": {},
     "output_type": "execute_result"
    }
   ],
   "source": [
    "import numpy  # Fast numeric computations\n",
    "A = numpy.matrix([[0, 2], [1, 2]])\n",
    "B = numpy.matrix([[3, 1], [1, -2]])\n",
    "A * B"
   ]
  },
  {
   "cell_type": "markdown",
   "metadata": {},
   "source": [
    "There are also a number of libraries outside of anaconda that are also very powerful. Some examples include:\n",
    "\n",
    "- Ciw: modeling of queues;\n",
    "- Axelrod: game theory.\n",
    "- tqdm: adding progress bars to your code :)\n",
    "- The list is very large...\n",
    "\n",
    "To install these libraries from the internet you can open a command prompt (Windows) or a terminal (Mac OSX) and type:\n",
    "\n",
    "```bash\n",
    "pip install <library-name>\n",
    "```"
   ]
  },
  {
   "cell_type": "markdown",
   "metadata": {},
   "source": [
    "# Further resources\n",
    "\n",
    "There are a number of wonderful resources for learning Python. Here are some that I have made:\n",
    "\n",
    "- My first year computing for Mathematics course: http://vknight.org/cfm/\n",
    "- A short set of notebooks that used to teach Mathematics how to use Python: https://github.com/drvinceknight/Python-Mathematics-Handbook"
   ]
  }
 ],
 "metadata": {
  "anaconda-cloud": {},
  "celltoolbar": "Tags",
  "kernelspec": {
   "display_name": "Python [default]",
   "language": "python",
   "name": "python3"
  },
  "language_info": {
   "codemirror_mode": {
    "name": "ipython",
    "version": 3
   },
   "file_extension": ".py",
   "mimetype": "text/x-python",
   "name": "python",
   "nbconvert_exporter": "python",
   "pygments_lexer": "ipython3",
   "version": "3.5.2"
  }
 },
 "nbformat": 4,
 "nbformat_minor": 1
}
